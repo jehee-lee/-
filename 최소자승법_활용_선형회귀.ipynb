{
  "nbformat": 4,
  "nbformat_minor": 0,
  "metadata": {
    "colab": {
      "name": "최소자승법 활용 선형회귀",
      "provenance": [],
      "collapsed_sections": [],
      "authorship_tag": "ABX9TyOHJwhya9unEKryFo4c4QZC",
      "include_colab_link": true
    },
    "kernelspec": {
      "name": "python3",
      "display_name": "Python 3"
    },
    "language_info": {
      "name": "python"
    }
  },
  "cells": [
    {
      "cell_type": "markdown",
      "metadata": {
        "id": "view-in-github",
        "colab_type": "text"
      },
      "source": [
        "<a href=\"https://colab.research.google.com/github/jehee-lee/deep-learning-theory/blob/main/%EC%B5%9C%EC%86%8C%EC%9E%90%EC%8A%B9%EB%B2%95_%ED%99%9C%EC%9A%A9_%EC%84%A0%ED%98%95%ED%9A%8C%EA%B7%80.ipynb\" target=\"_parent\"><img src=\"https://colab.research.google.com/assets/colab-badge.svg\" alt=\"Open In Colab\"/></a>"
      ]
    },
    {
      "cell_type": "markdown",
      "metadata": {
        "id": "schQ7tr5_ml_"
      },
      "source": [
        "**H.W #1** 단일 변수 함수 선형회귀"
      ]
    },
    {
      "cell_type": "markdown",
      "metadata": {
        "id": "702dAawuWAnb"
      },
      "source": [
        "변수 선언\n",
        "x = [1 2 3], y = [1 3 2]"
      ]
    },
    {
      "cell_type": "code",
      "metadata": {
        "id": "ukubZkCBZEp7"
      },
      "source": [
        "x = [1, 2, 3]\n",
        "y = [1, 3, 2] "
      ],
      "execution_count": null,
      "outputs": []
    },
    {
      "cell_type": "markdown",
      "metadata": {
        "id": "n34j6AcjXnVe"
      },
      "source": [
        "xbar, ybar 계산"
      ]
    },
    {
      "cell_type": "code",
      "metadata": {
        "colab": {
          "base_uri": "https://localhost:8080/"
        },
        "id": "BdaDdApoZe_S",
        "outputId": "0060fb85-4c7b-46f3-e8eb-3463191a34e4"
      },
      "source": [
        "n = 3\n",
        "\n",
        "xbar = sum(x)/n\n",
        "ybar = sum(y)/n\n",
        "\n",
        "xbar,ybar"
      ],
      "execution_count": null,
      "outputs": [
        {
          "output_type": "execute_result",
          "data": {
            "text/plain": [
              "(2.0, 2.0)"
            ]
          },
          "metadata": {
            "tags": []
          },
          "execution_count": 36
        }
      ]
    },
    {
      "cell_type": "markdown",
      "metadata": {
        "id": "SXQNonNFYamN"
      },
      "source": [
        "![image.png](data:image/png;base64,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)"
      ]
    },
    {
      "cell_type": "code",
      "metadata": {
        "id": "Z3rBpYwoZqsj"
      },
      "source": [
        "sumxx=0\n",
        "sumxy=0\n",
        "for i in range(n):\n",
        "    sumxx +=(x[i] - xbar)**2\n",
        "    sumxy +=(x[i] - xbar)*(y[i]-ybar)"
      ],
      "execution_count": null,
      "outputs": []
    },
    {
      "cell_type": "markdown",
      "metadata": {
        "id": "ejdRpHbEIZ3g"
      },
      "source": [
        "alpha와 beta 구하기"
      ]
    },
    {
      "cell_type": "markdown",
      "metadata": {
        "id": "b1gNGWMdYllE"
      },
      "source": [
        "![image.png](data:image/png;base64,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)"
      ]
    },
    {
      "cell_type": "code",
      "metadata": {
        "colab": {
          "base_uri": "https://localhost:8080/"
        },
        "id": "LGB7jbMeIYL8",
        "outputId": "fdce746b-6da2-485f-d778-b7a171fbd57f"
      },
      "source": [
        "beta = sumxy/sumxx\n",
        "\n",
        "alpha = ybar - beta * xbar\n",
        "\n",
        "alpha, beta"
      ],
      "execution_count": null,
      "outputs": [
        {
          "output_type": "execute_result",
          "data": {
            "text/plain": [
              "(1.0, 0.5)"
            ]
          },
          "metadata": {
            "tags": []
          },
          "execution_count": 45
        }
      ]
    },
    {
      "cell_type": "markdown",
      "metadata": {
        "id": "vzZHwqmaCBi6"
      },
      "source": [
        "이후 그래프를 구하면 다음과 같다."
      ]
    },
    {
      "cell_type": "code",
      "metadata": {
        "colab": {
          "base_uri": "https://localhost:8080/",
          "height": 269
        },
        "id": "yKnqTZwACLsM",
        "outputId": "ba062eea-08aa-4d2c-dcc2-0c7e5738da52"
      },
      "source": [
        "import matplotlib.pyplot as plt\n",
        "\n",
        "line_x=np.arange(0,6,0.1)\n",
        "\n",
        "line_y=beta*line_x+alpha\n",
        "\n",
        "plt.plot(x,y, 'b.', line_x,line_y,'r')\n",
        "plt.axis([0, 5, 0, 4])\n",
        "plt.grid(True)"
      ],
      "execution_count": null,
      "outputs": [
        {
          "output_type": "display_data",
          "data": {
            "image/png": "[encoded data removed]",
            "text/plain": [
              "<Figure size 432x288 with 1 Axes>"
            ]
          },
          "metadata": {
            "tags": [],
            "needs_background": "light"
          }
        }
      ]
    },
    {
      "cell_type": "markdown",
      "metadata": {
        "id": "SnLbHp0kHwZ-"
      },
      "source": [
        "최소자승법 결과 구해진 그래프는 과제와 다르게 나왔다.\n",
        "\n",
        "이는 검산 결과 sumxx=2.0, sumxy=1.0이 나오면서 beta가 0.5가 되었기 때문이었다.\n",
        "\n",
        "이를 통해  최소자승법을 통해 구한 간단한 선형 회귀 그래프가 예상과는 다름을 알 수 있었다.\n"
      ]
    },
    {
      "cell_type": "markdown",
      "metadata": {
        "id": "Yab_A-WP_qvP"
      },
      "source": [
        "**H**.W #**2** 다변수함수 선형회귀"
      ]
    },
    {
      "cell_type": "markdown",
      "metadata": {
        "id": "lMKi0_HII59D"
      },
      "source": [
        "행렬과 전치행렬 선언"
      ]
    },
    {
      "cell_type": "markdown",
      "metadata": {
        "id": "auCKaVa0ZRxF"
      },
      "source": [
        "![image.png](data:image/png;base64,iVBORw0KGgoAAAANSUhEUgAAAdEAAABdCAYAAAD6xlyMAAAemElEQVR4Ae2dBdgVxffH5SeIgIoJgoGFYiEqiGIXYCsGWGBjYmPrg4KBASoqKnZ3gIGBLRa22IKYYHc7/+cz/g/Pvpe9927M7O697znPc5977+7OmZnv7s6ZOXNiNqOkCCgCioAioAgoAokQmC1RKS2kCCgCioAioAgoAkaFqD4EioAioAgoAopAQgRUiCYETospAoqAIqAIKAIqRPUZUAQUAUVAEVAEEiKgQjQhcFpMEVAEFAFFQBFQIarPgCKgCCgCikDdIXDvvfeav//+23u/VIh6h1grUAQUAUVAEcgSAQTobLPNZj///vuv16pViHqFV5krAoqAItB4EEBg/fbbb7l3+JdffjFjxoyxQnTo0KFe26NC1Cu8ylwRUAQUgcaBQMuWLWeu/rp162Yefvjh3DveoUMHs/baa3tthwpRr/Aqc0VAEVAEGgcCqE9Z/UGsBEePHm3SqlL//PNPs+OOOyYGcNSoUVawf/TRR4l5VCuoQrQaQnpeEVAEah6Bv/76ywwcONBceOGFZsiQIebwww83l1xyifnjjz9qvm9F6sD3339v3n33XWdNuv32260QfPbZZxPx/OKLL0yTJk3M2Wefnah8lEIqRKOgpNcoAopATSMwbNiwmapGMTjhe+mllzbTp0+v6b4VqfH9+/c3119/vbMm/frrr+Z///ufmTBhQmKea665punRo0fi8tUKqhCthpCeVwQUgbpA4LvvvjNvvfWWmTFjhkFNOG7cOCtYWZUqpUdgypQppk2bNoZVv0vq1KmTuemmmxKzPOOMM6wg5v77IBWiPlBVnopABgjgAzdt2jTz4IMPmvXWW8+qKD/55JMMaq6fKnr37m2WWGKJ+ulQjj1p27atnZS4bkK/fv3MyJEjE7N95plnbLuYNPkgFaI+UFWeikAGCIhacvbZZ7eDxBZbbGG+/PLLDGqunypQ86IuZGWqlA4BVKYnn3xyOiYhpVlJHnvssSFnoh36/fffTfPmzVPxqFSTCtFK6Og5RaDACCBETz/9dPPTTz8VuJXxmyaTg/gl45e47bbb7ATk448/jl9YSzRAAFXurbfe2uCYiz9jx441u+22WypWuLmsu+66qXiUK6xCtBwyelwRKDgC1113nVXl5tHMn3/+2WD56IOyFKKPP/64FaKTJk3y0ZVGw5PVHvftkUcecd5n3FPWX3/9VHwHDRpk5plnnlQ8yhVWIVoOGT2uCBQcAQYtVJF5kAi6tH6AYW0X3mHnXB/D0Ij6xo8f75p1o+L3wgsvWBzvvvtu5/3mGVt55ZVT8b3iiits+zB+ck0qRF0jqvwUgYwQYPA/+uijM6qtYTUi6Hz4WQrvhjX6+ffee+/ZwdWX0YmfVhePq6zofRm2oY5NM2F76aWX7H0mpq5rUiHqGlHlpwhkgACDFcIGy9w8aK211rL1f/bZZ86rp1+tWrVyzjeM4eTJk20/dCUahk70YzfccIPF0cekilYMGDAgldEc7i08V+eff370TkW8UoVoRKD0MkWgSAggPBkUUEfmQdTNh31Z1yS8XfMN4/f666/bfjz66KNhp/VYRASGDx9uWrduHfHq+JfB/8UXX4xfMFCCPdEjjzwycMTNTxWibnBULopApgjgN4ewySvazmGHHWbrv/HGG533u3379mannXZyzjeM4csvv2z78cQTT4Sd1mMRETjkkEPMsssuG/Hq+Jfdd9995s4774xfMFBipZVWShWHN8CqwU8Vog3g0D+KQG0gcNBBB9mYoFkkHQ5DZPvtt7fCZ9FFFw07nerYNttsYy699NJUPKIWfv75520/Jk6cGLWIXheCwHbbbWcDfoSccnLo22+/Naje0xCBNXxkdFEhmuauaFlFICcEevXqZeaff/6cajfmySeftMIHYe6aEKJTp051zTaU31NPPWX7geGJUnIE0IqQCq3IxL6qj9WyCtEi33VtmyJQBgECp/sYEMpUF3p4ySWXNLgOuKY0cVLjtgW/RgTAG2+8EbeoXh9AAAzbtWsXOFK8n4MHDzbzzjuv84apEHUOqTJUBPwi8M8//5hmzZqZddZZx29FVbgfeOCBNe9fiV8jAiCrlW8VSGvyNLlDwfCcc84pdPtJh0Y7XW+BqBAt9G3XxikCsyKAWwmDQZpkxbNyjX+E1dtXX30Vv2CBSpC2Cyy//vrrArWqtpoiAStuvvnmQjdcjPFcu+GoEC30bdfGKQKzIoARDAM/ocyU0iFAkm6iPrlO35WuVbVVGstZnsenn3660A3nXtNOQhS6JBWiLtFUXopABggQ5JvBgOwWSukQOOaYYwq/l5euh/5LX3TRRfZ5LHoQf2knib5dkgpRl2gqL0UgAwTOPfdcO2hdffXVGdRW31WQHaRbt2713UnPvTvqqKNqYjU/evRo+96wh+uSVIi6RFN5KQIZIEDUFVai999/fwa11XcVCNCdd965vjvpuXfksa2FxOaXXXaZfW/IQOSSVIi6RFN5KQIZILDrrrvawYBAAUrpEJhrrrnM0KFD0zEpUOkff/zRvP/++5m2CAHas2fPTOtMUplkcgEjl6RC1CWayksRyACBTTbZxArRDz74IIPa6rcKCeJ/11131U0n0VDwyYpQjTZp0sQcfPDBWVWZuB4Roq6T2GeHduKua0FFQBEIIkAMUAbK77//PnhYf8dEgKDz4Pj222/HLJn95ex/R7EqpT++kk+H9VpSjF1wwQVhpwt1jAwuCPw0KdXCOqRCNAwVPaYIxEQAp/2sgpgvtNBCpmnTpjFbqJeXIkB8XnD8888/S08V7j/CkU814pq555672mXOzl977bW2XXml5IvTkdNPP92gvndN1e+K6xqVnyJQZwiQ6JfBCxN638QsGr/GNm3a+K6q7vmT0HyZZZapiX6KEK0W3ILr5pxzzsz6dOyxx9pnf8qUKc7rvO2220yfPn0sf/p1wgknpKrj+OOP9+LOlLsQVSfnVM+FFs4ZAYwUeMGzcpOQ5MJ5x83NGXYn1TNAb7bZZk54+Wbyyiuv2OesWj5MYiojLLIi8GN151pFSvtl4iDf3bt3T9Wt/fff36ywwgqpeIQVzlWICjh77bVXWNv0WAEQIE7rpptu6iTeJOqUHj16OOFVAGhsE0455RT7smcVwJwZP+/NGmusURQIarYdq622mvGRhcYXIDvssINp3rx52eTUrFLRUlxzzTW+mjALX1LhpRVuszAtOfDbb7/ZFSSZg9IQYTLXXXfdNCxCyzoVoiNGjLAveGhNJQdnzJgxc6bho2Ml1enfhAhIiLm0+32SLQMBkDZDfcKuOC/25ZdfmlatWhkCsVeiSZMmGdxRuD4tvfrqq/a9qQWXgrR99V1+gQUWMOedd57vapzxx5p4wQUXNOVyuI4ZM8YKUa7Lgsjxyfu89957e62OFWTfvn1T17Hxxhsb0uy5JqdCVFaWb775ZtV2Mjjfcsst9iboSrQqXLldIHkjL7nkkqptIPN8WCBvTMqXWmopwx4Hzwhh64pIzz77rG0fbWSFWY3keS83aD3wwAMz+cm1yy23XKqVuOS/JCl2vdLtt99uunTpYh5++GFvXRQ1PPvZtUQTJkywe57Dhw9voELlvSM1HavVrEjGBhZPPoitiz322MNsuOGGxkWAhJVXXtmLwHcqRGlknI36xx9/3A4yWRhk+LjJefN08WBV68MNN9xg71G1fRbZqyv1F2PPe6uttrIvg2QfKWrKpJ122sn2lb2yapkeJHMFA1c5EsHJ94orrmh5gwUDYVJ66KGHLB/C1eVJe+65p1lsscWcN4ExJIibr6Dmssf47rvvOu+Db4aijVh//fUNmVOwDF9zzTWtEP38888jV49FLavXpK5SWDdzr5gsuibhDX9XkylyiUaZHMfti1MhyrIeP5wvvvgiUjsOOOAAexOirFwjMYxxEUGIXTvdlqv+uOOOs/0sdz7ucQTT2muvbXlOnjw5bvFY18s9og+V6LDDDjPsMQWFD+1kZrz66qvbmaQIHoRVEYm9F/HBZO8WNWw5wqACf7xK1pKocBkEpk+fXo5N7OP33HOP5bnvvvvGLuuygAg6lzzhtd122xlWWQiD9u3bm/XWW891FZafZB7Jagxw3Ykrr7zSanfkPqDhiBN8g71TKQvOPE9x82weccQRlkeceqPiwGSR5AADBgywdSBX0hD3mf4yaXBNToUoGelpaJTA2B999JGZY445DLOprEkApa2vvfaa9+rlYeXFTUvi3AxP9uMw/PFJGClQVyUhyktEkmhmxEJEMmHfDmtB2QsU9Q8CqqjE6p5YqvSZF3f33Xc3pera8ePH2/PDhg3LvBuyBXLIIYdkXnewQnmmg8dc/A4+z0zKffk8Er2mZcuWLpqcK48PP/wwlvCksUwWuX9nnnmmQYMEsZDheBwiZi7vfVzhG6cOriWQA+2Ns8ourYPFBjx8+LM6FaLMuBl4oqw02OClU88880xpf73/l0ESP7Es0vewv0NfMaZKSpiQk5mdhxZepWrTpHxPPfVUUynsGQKS+ioJUdSfqDVlAOSbMnymTp06s2nca46RhaToxIqPmKC0t0WLFmbw4MEGQwqixjDrZ/YeJxuEYJO235JEmmc3TxL1tM827LPPPl78+mgz8XJrIWh6NXxZQeKrGZdcbAWxdce74JvQGvIevvDCC4mrEvsEtGGuyakQpXGsMmafffaKKzyZWfgwKPrhhx8qhscaO3asvSGoH6sRqzCc2nnZmLUlJWbUPARJB1KMBljVwWOdddZxJviDjszsswgRwUX8vnDdoN5yQhSrXc6PGjVKipuzzjrLWhGWPvTMAkuvnVmogD94eU8++WQrRGn3fPPNZyRuLVqXasQMnXLBT9roOGh54HfSSSdVq97red5drB19Ec/fIossYgYOHOilClby9eAmxLOQVJCxF/rYY49ZzeGQIUPMO++8Ewtr3G1wf/NNjHlss6Qh2WP1ob53LkRlUMV3KGzAwL0BNS5Or3Fm8lEB5KHigQgjVhGoF1u3bh1pn0oEFyo9+FbaIwurT44hiCn/3nvvyaHI38T1pM1MTOiXK9UJLwxtOvTQQ63LCSstiOzvqLnE+vO5556z14VFC2Gg69q1qz0PL66F+B2muhZ1P6q0WiK0Ff369ZvZT9ToWPJWI55/sJDPyy+/XK1I1fPs6cAvD1VysHHSp+Axl79lwoXxoQ/ab7/9rF2BD95Z8mSiEdc6FsM2uX9MhAjdF1cjhwCGxy677OKtuyw6iHdLPa+//nqqehi/MCzyQc6FKI3s37+/7TiWiBIOCpNyVigMQMT+rLSsZrbAKob8bwzMcW6wPBxY35USzv6cj+obhroCVSyE4GcVG4d4CNhPY4OcetnPYk8TtWAUAgNuPAYswdyRlGf/EaMdXEfC3Eqq8acsExlZcXI9LyPqeM6hrmS/RAxZwixqZXZH3xC8fNNnvsOsKiWzPDjUGoETzwL40D8MM1ilBvHLok+4GlF/3ipxrBzvuOMOL13GIA0rXVb9vgjfQ99BAny1PciX7Z0oNijBMqIJvPzyy4OHY/3GqpnnMIpGLxbj/7/4qquusoEReM6SWg8H68WanWfKB3kRolhoyr4jgw3GATL4EK6sktqAG1P6YbBnhRSFxNeP+JHBvHq4VyDAl19+ecNLWo1YJbP6wzqMbA/wi2Jlid8ZZRhwKVPal+D/DTbYoGIzZC+VDXxmzttuu63dIwry4HdcgwCw4L4wAxXiN/cInBHe8OUFkUS2WAMGiT0VaYeoqdu1a2d9QFlFbL755rMImK233tqWwW2m1oj+019mtEwo5N5yb3yoiMrhg9qcdgTV5+WurdXjgwYNMh06dDD4ko8cOdL6F7MiTWNYUooFVudYjdcyMUbxLOB/nTWJfcNpp52WddWJ6sPKm3fVB3kRotJQDFYQpoRb4pvBM0zFK9fzLQMzq0U+SQYo9vFY7bKHJSs41A7wxnQ6CoklKUIEdwaEWDUaN27czPZTF0Jp4YUXtvp8hBYGV/SJFZm4qFTiicEAfWDAbtu2bQPerJKDk4RKfErPMXOFJ3t+EIKfbBZoCiCJJoWw5SWhL6xIgyT3KWgYhs8ax8vR/PPPb8/XmjoXNxai2zCZk3RUaDpQs9NfVjRRtQvlsIl6XITo6NGjoxapqetkhSPPF9/siTEA4v6ClivJmFAKAoZ5nTt3Lj1cU/+nTZtmn788gpeISjiNrUiWYKP29hXisfyI57CH8kK4sAiL2iysSsWCkFktbYgT8ok9J8pcfPHFNl5lFF8oCTjATBqTahlwaTOqBARzEmI/AGdq2sNGftq9NfZ4e/fubZtCm7A+LeeELEZR+DwKsTdLW8IshBnoyvmuis9pHn7B0vYk30RNQSsRxAA+CE4GeLAgqkoWql2EJ/WhSq9XYlvhxBNPNAjUUhuAb775JpImqRo2PLtJDXKq8c7qPOMAzwKqz6xJ9qzxGCg6sVhgQRN1Gy9ufzIRouyXRY1kxEMhn44dO878nSRxroT2gh8rwaAFajWgULWyH0m7cQNJS2zgx6lf6iPmLPixoiWsngtCrcpKmChE7PWWs7ylLoQD+IkqTVapGGeFTYoItIEgDdunlb1yVri1QhJVSwyvStuNKr1Tp06ZDWas4rkfaEiUkiOAdS6T61omSUaQx6RUtG6+BJPL+yIeBqXaNFd1ZCJEmcVHNVWXiDEMFPjCERUj6GsYt+NsnosQZeYZRRgjHBAulGMF6GJjG+tOAkzEJRmgmfmxV8kDQfxUXBxQcTFjR02BuwqCP0pwd1Ta7A0jSMOsaINtZKABC1llodYEF9pQjpi8hO3TYvFLWVEjlytflOPs7YM/n7D+SDt5PukXH98kwS9UiKZDmkmRr0AO6VoWvbSoc6NGiIvOufqVkkMXI6WiE0aYvJu+Jhv+33pj7FL68MMPzxxrhCErOAIBsKIQtW61tohFKsBLcINqZap1jpkvqqi4RMYGGaDDvhFqGByh3qs00Metl+tRpTEBwgIYYnVJGxDoSWjLLbe0eCYpm0cZ9oPpfxR3Fvb78bnzTRLLWIVoOqQJtsCz7PqdSdeqeKU//fRT24dgqM14HJJfLUI0SmKK5LW4KYnKGXWur3udiRDlYa0WwNwNXA254IJA3RLAmD0s/vOpZBkr12DEIYYc1VZsDWue9R8uPbKam/Vs+SO0mf1LIpMg0DHNx3cKa1FcbpLwLF9bwzOE6wMLLG0hAllEtZJuyOm/f7g8YSFdCyRq3CTRYHz2T4y3VIimQ1nU4rUYgF56zgqUhNh5kAjRNG4yWbWbsdOn6j4TIcqNTruSiwu4uLSURkVC6KAGRTiUi/oiQhQT8m7dulkz+7j118P1GDSBxVFHHeWkOxh2+XJ4dtLAABN5BkoNWwKX5PKTNGG0TYVoOvgl/nFSrUq62t2UZtukXG5RNzWU5yKR3/IwairfqvAzxGf3GVkpEyGKKwC+k1kSe4SLL774zADLpXXz8mAxW7rfyp4pg5RkKMg70Hdpu7P8L4m0Xb0oGHeBrVJyBGR/pxZWAMl76b8k0cN4FtNoVvy3snoN2GzkQWJYRCznohPuLWGeBK7ancmIhgELqrwsCMMbnI/xgyQ6UCViz7TU50yieeA3WQuWZ5X6l/acZAwpde1IypdBS4VoUvT+K4eFNhi6mtika03tlkbDgMFcFP/vIvcyr/aLEGV7ocjEPij7oXFDI8bpUyZClEAHvvIClnZWBuqkg4yUlziwpfwb03/Zf4sSqSkKLuyLE7FKKTkCTBB5Rm+88cbkTLSkRQA/8izS8olFdZpk7OVuWZToa+XKpjkuxpeVMkCl4e+qrMQID6ZpdMVb+GQiRLGOImFzFoThDarcJCT7TQxSSsau6MnUgEUo+y9pCXx9bvCnbV8tlJcg/q58hmuhz77aiMsVUbR8E5NQxpR6evblOYwaAc43xuX4s20H9mkD2Jfjz/FMpIXEWazUkCKck0ACvsJDFaGPcdogs01CD7ogXGRc8XLRnlrkQYxjBgUJZ1mLfShKm4mDDJaEdfRN1MOnXkism4NhP4vYNwzwwN2Fr3+5/mVyV7GIpSNhUWzKNSyP4xIPsugPRlbYSMSnsIw4SdtADkcXq9qk9dd6Odmz12c0/Z2UCYlvLGVynoebX3qUwjlITO0kAWTCOfo5igcGYU19UiZClA7giO4jf6hLcLDUQ30ZjHnrkr/yMjZwAcZfSskQkLjFlVIJJuPc+EpJtqKk9hNREWM7hKAdCNN6IVwHMb7Ma082Ko577rmnWWKJJaJenui6zIRootZlXIgg7BgbKCkCRUXgwAMPzEwFmRcGTLjJNEQCcp+TBUkYEZZw3mXf11prLZvU3SXPvHkRU5tIcK6I7F54AWA34XKflZy0vt2AVIgGnoK+ffvafJ2BQ/pTESgUAhjDELnKZ6SqPDuMFkj2D/lmBReWEN5VG9u0aWNTFLriV8pH3MR8GraU1pnFfwQoSTVc0WuvvWYktjb3HWHqgjDmIhWnT1IhGkAX9wtuoJIiUFQEWAEw8OdJkhXDl3qyV69eZvjw4Qb3BL7ZYqmWhzgpHqxSunbtmrR41XJEyqm3MQUfW1S5++yzT9X+J7kAvHbbbbckRRuUwUeUAC8kMvFJKjEC6OIXSeJsJUWgqAgQhjJqWkFffRCrVpdqt3JtJaIYq9HSoCjlro97HB92kjj4IALDc7+yStjuow9hPCUcqI9gNJMmTbKTjij5m8PaFjyGwRgCGUtin6RCNIAuAdZrOZZmoCv6s04RwN+a1Gx5EvuVDE5R0u6lbSdBJbp3756WTdnyMiHwYTGOW0W9qXEBkuQX3P8nn3yyLK5JThC4gVCtMgaj6cAf+rrrrjNHHnmkzXscJ41iz549nQnkSv1RIVoJHT2nCBQMAVSP5MXNkySzkU+jH+kfCd4vuugi+ev8W/wd2ZNTioYAAW3QDhA21RUdc8wxVuDxfLPXusoqq9hMW8Q3x7qZSF3HHXdc1fzH0h7U/wh6Pr7tB1SICur6rQjUAALs4Ul+17yaO2zYMDs4kSnJJ5GmbLHFFvOaxF0i2sjqx2d/6oX3SiutZFZfffXQ7hC4IkleXdyN8NulLHlS0xJxkRGgpVm80vINK69CNAwVPaYIFBQBYlC3b98+19bhd8cAFUe1lqTBRA67+OKLkxSNXEb24GohG0nkTnm8kBzDBHRHvRokjI0eeOABGyP9k08+CZ7K/DeZt2QVmkXCchWimd9irVARSI4AuRHbtm2bnIGDkqxEGKR8E5mf+vXrZ0488URDrFYfjv3Tpk2zfRk5cqTv7tQFf0lKgcCcOHGizWuL7/JCCy1k1bDvv/9+rv3EUEwEqC/r8dIO+n8TSmvU/4qAIpAYAVxcFlxwwcTlXRQcPHiwNQBxwasSD1Y0Z555phk0aJBVYe+xxx6VLk90jn09Bt16CsmXCIiIhWSV16VLl5nCCtdA4mznTTwvHTt2NPPMM49hxZwVqRDNCmmtRxFwgABCNIvMI5WaSujBzp07V7rE+bmBAwfaQds5Y2Ns8Iq88nL66I9PnrLK4xsrcfbHfRvu+OyPC94qRF2gqDwUgYwQwLCoXbt2GdUWXg2qVWb8WZEY/wwYMMBLlXPPPXfdheXzARRWuSJEP/zwQx9V1CRPFaI1edu00Y0VAUz+87bOxYKSwdQHEfaPSEVkVCJakQza+Ar6ItTjW2+9tS/2dcNXQhiOHz++bvrkoiN+3gQXLVMeioAiMAsCRCsqQpIEhBsBw13TN998Y2PljhgxwsZPJWKRb1p44YVN7969fVej/OsUARWidXpjtVv1iQCqXKIW5U0EQOjRo4eZMmVK3k1JXf+iiy5qNtpoo9R8lEHjRECFaOO879rrGkWgdevWhsTmSu4QIKA/IeKUFIEkCKgQTYKallEEckKgVatWNqh5TtXXZbVMTLbYYou67Jt2yj8CKkT9Y6w1KALOEGjZsmXZkGvOKmlEjAjgQLqsnXfeuRH1WrvqEgEVoi7RVF6KgGcEWrRoYVZddVXPtdQf+1deecXgCyrWvuyDym++NdhC/d3zrHqkQjQrpLUeRcABAs2aNau4EiUAOEY/RPnxlYPTQTcyZbH33ntbgUkIQRJ+kymkT58+DYTo22+/nWmbtLL6QUCFaP3cS+1JI0AAIxjCmh199NHWohQfRzJVkD4quLLitwrR/x4IMo6UC0v3zz//NIKnRrvoEwEVoj7RVd6KgGMEyOXZtGnTWQRmUIDeeuutxkeSacddUXaKQF0goEK0Lm6jdqIxITB9+nTzyCOPmFNPPdWuSAl6QJACJUVAEcgeARWi2WOuNSoCioAioAjUCQIqROvkRmo3FAFFQBFQBLJHQIVo9phrjYqAIqAIKAJ1goAK0Tq5kdoNRUARUAQUgewRUCGaPeZaoyKgCCgCikCdIKBCtE5upHZDEVAEFAFFIHsEVIhmj7nWqAgoAoqAIlAnCPwfPXkVAJaqdYoAAAAASUVORK5CYII=)"
      ]
    },
    {
      "cell_type": "code",
      "metadata": {
        "id": "-vg1vtwRae3w"
      },
      "source": [
        "import numpy as np\n",
        "\n",
        "#  X, Y와 전치행렬 XT를 선언\n",
        "X = np.array([[1, 1], [1,2], [1, 3]])\n",
        "Y = np.array([1, 3, 2])\n",
        "XT = np.transpose(X)"
      ],
      "execution_count": null,
      "outputs": []
    },
    {
      "cell_type": "markdown",
      "metadata": {
        "id": "Xfv6u93FZcql"
      },
      "source": [
        "![image.png](data:image/png;base64,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)"
      ]
    },
    {
      "cell_type": "code",
      "metadata": {
        "id": "eKq2h1QXbZPT"
      },
      "source": [
        "A=np.linalg.inv(np.dot(XT,X))\n",
        "B = np.dot(XT, Y)"
      ],
      "execution_count": null,
      "outputs": []
    },
    {
      "cell_type": "markdown",
      "metadata": {
        "id": "i5xVGzyLZegd"
      },
      "source": [
        "![image.png](data:image/png;base64,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)"
      ]
    },
    {
      "cell_type": "code",
      "metadata": {
        "id": "ahH25hK9B2SP"
      },
      "source": [
        "beta = np.dot(A,B)"
      ],
      "execution_count": null,
      "outputs": []
    },
    {
      "cell_type": "code",
      "metadata": {
        "colab": {
          "base_uri": "https://localhost:8080/"
        },
        "id": "6-544qskcMAz",
        "outputId": "77ebc951-798d-4bdf-e673-ae00d78843cf"
      },
      "source": [
        "print(beta)"
      ],
      "execution_count": null,
      "outputs": [
        {
          "output_type": "stream",
          "text": [
            "[1.  0.5]\n"
          ],
          "name": "stdout"
        }
      ]
    }
  ]
}