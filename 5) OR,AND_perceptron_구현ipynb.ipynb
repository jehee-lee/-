{
  "nbformat": 4,
  "nbformat_minor": 0,
  "metadata": {
    "colab": {
      "name": "OR, AND 구현ipynb",
      "provenance": [],
      "collapsed_sections": [],
      "authorship_tag": "ABX9TyMECw15Fe1kjeFTTA0li9jt",
      "include_colab_link": true
    },
    "kernelspec": {
      "name": "python3",
      "display_name": "Python 3"
    },
    "language_info": {
      "name": "python"
    }
  },
  "cells": [
    {
      "cell_type": "markdown",
      "metadata": {
        "id": "view-in-github",
        "colab_type": "text"
      },
      "source": [
        "<a href=\"https://colab.research.google.com/github/jehee-lee/deep-learning-theory/blob/main/5)%20OR%2CAND_perceptron_%EA%B5%AC%ED%98%84ipynb.ipynb\" target=\"_parent\"><img src=\"https://colab.research.google.com/assets/colab-badge.svg\" alt=\"Open In Colab\"/></a>"
      ]
    },
    {
      "cell_type": "code",
      "metadata": {
        "id": "fAYnjewwxbLY"
      },
      "source": [
        "import numpy as np"
      ],
      "execution_count": null,
      "outputs": []
    },
    {
      "cell_type": "code",
      "metadata": {
        "colab": {
          "base_uri": "https://localhost:8080/"
        },
        "id": "cYywcVVYxlTY",
        "outputId": "0fd3059b-9a0d-48a8-cadc-e890c70ea821"
      },
      "source": [
        "x1 = np.array([0,0,1,1])\n",
        "x2 = np.array([0,1,0,1])\n",
        "\n",
        "#w0, w1, w2는 -1~1 사이의 임의의 수\n",
        "w0,w1,w2 = 2*np.random.rand(3)-1\n",
        "W=[w0,w1, w2]\n",
        "\n",
        "#학습률\n",
        "eta = 0.01\n",
        "\n",
        "print('w0:',w0, 'w1:',w1,'w2:',w2)"
      ],
      "execution_count": null,
      "outputs": [
        {
          "output_type": "stream",
          "text": [
            "w0: -0.536927840243953 w1: -0.2693489741649555 w2: 0.8184612909088467\n"
          ],
          "name": "stdout"
        }
      ]
    },
    {
      "cell_type": "code",
      "metadata": {
        "id": "8w3nYcs5xuTW"
      },
      "source": [
        "def net(W,x1,x2):\n",
        "    y=W[0]+W[1]*x1+W[2]*x2\n",
        "    if y<=0:\n",
        "        ans = 0\n",
        "    else:\n",
        "        ans = 1\n",
        "    return ans"
      ],
      "execution_count": null,
      "outputs": []
    },
    {
      "cell_type": "markdown",
      "metadata": {
        "id": "Vd8O819E1Aef"
      },
      "source": [
        "And일 때: target = [0, 0, 0, 1]"
      ]
    },
    {
      "cell_type": "code",
      "metadata": {
        "id": "mwsB4o7Q1KwH"
      },
      "source": [
        "target = np.array([0,0,0,1])"
      ],
      "execution_count": null,
      "outputs": []
    },
    {
      "cell_type": "markdown",
      "metadata": {
        "id": "XXNgTlsj2Nke"
      },
      "source": [
        "학습 전"
      ]
    },
    {
      "cell_type": "code",
      "metadata": {
        "colab": {
          "base_uri": "https://localhost:8080/"
        },
        "id": "rgfxMafv2JBX",
        "outputId": "6fd4e479-72ac-42c2-cb26-c898846e3cbc"
      },
      "source": [
        "for i in range(4):\n",
        "    print(net(W,x1[i],x2[i]))"
      ],
      "execution_count": null,
      "outputs": [
        {
          "output_type": "stream",
          "text": [
            "1\n",
            "0\n",
            "1\n",
            "0\n"
          ],
          "name": "stdout"
        }
      ]
    },
    {
      "cell_type": "code",
      "metadata": {
        "id": "aW7DWaVX0ZAz"
      },
      "source": [
        "for epoch in range(1000):\n",
        "    for i in range(4):\n",
        "        w0 = w0 + eta* 1*(target[i] - net(W, x1[i],x2[i]))\n",
        "        w1 = w1 + eta*x1[i]*(target[i] - net(W, x1[i],x2[i]))\n",
        "        w2 = w2 + eta*x2[i]*(target[i] - net(W, x1[i],x2[i]))\n",
        "        W=[w0, w1, w2]"
      ],
      "execution_count": null,
      "outputs": []
    },
    {
      "cell_type": "markdown",
      "metadata": {
        "id": "hgkpVVI_7RvX"
      },
      "source": [
        "학습 후"
      ]
    },
    {
      "cell_type": "code",
      "metadata": {
        "colab": {
          "base_uri": "https://localhost:8080/"
        },
        "id": "uzkvu6KL2CeL",
        "outputId": "e6f44689-b64a-4d95-ce9e-2823e6ce2e83"
      },
      "source": [
        "for i in range(4):\n",
        "    print(net(W,x1[i],x2[i]))"
      ],
      "execution_count": null,
      "outputs": [
        {
          "output_type": "stream",
          "text": [
            "0\n",
            "0\n",
            "0\n",
            "1\n"
          ],
          "name": "stdout"
        }
      ]
    },
    {
      "cell_type": "markdown",
      "metadata": {
        "id": "2lAQIYuo7T2_"
      },
      "source": [
        "OR일 때: target[0, 1, 1, 1]"
      ]
    },
    {
      "cell_type": "code",
      "metadata": {
        "id": "UH_SmfxL7TjP"
      },
      "source": [
        "#가중치 다시 초기화\n",
        "w0,w1,w2 = 2*np.random.rand(3)-1\n",
        "W=[w0,w1, w2]\n",
        "\n",
        "#target  변경\n",
        "target = np.array([0,1,1,1])"
      ],
      "execution_count": null,
      "outputs": []
    },
    {
      "cell_type": "code",
      "metadata": {
        "id": "itVWlmx-7s3g"
      },
      "source": [
        "for epoch in range(1000):\n",
        "    for i in range(4):\n",
        "        w0 = w0 + eta* 1*(target[i] - net(W, x1[i],x2[i]))\n",
        "        w1 = w1 + eta*x1[i]*(target[i] - net(W, x1[i],x2[i]))\n",
        "        w2 = w2 + eta*x2[i]*(target[i] - net(W, x1[i],x2[i]))\n",
        "        W=[w0, w1, w2]"
      ],
      "execution_count": null,
      "outputs": []
    },
    {
      "cell_type": "code",
      "metadata": {
        "colab": {
          "base_uri": "https://localhost:8080/"
        },
        "id": "yv_gO0wN7u7P",
        "outputId": "bf563d40-e30f-47d2-d5e1-491c5ac71795"
      },
      "source": [
        "for i in range(4):\n",
        "    print(net(W,x1[i],x2[i]))"
      ],
      "execution_count": null,
      "outputs": [
        {
          "output_type": "stream",
          "text": [
            "0\n",
            "1\n",
            "1\n",
            "1\n"
          ],
          "name": "stdout"
        }
      ]
    },
    {
      "cell_type": "markdown",
      "metadata": {
        "id": "LIdkk8CG7Z6a"
      },
      "source": [
        " 추가) XOR일 때: target[0, 1, 1, 0]"
      ]
    },
    {
      "cell_type": "code",
      "metadata": {
        "id": "u_HYauZW752O"
      },
      "source": [
        "#가중치 다시 초기화\n",
        "w0,w1,w2 = 2*np.random.rand(3)-1\n",
        "W=[w0,w1, w2]\n",
        "\n",
        "#target  변경\n",
        "target = np.array([0,1,1,1])"
      ],
      "execution_count": null,
      "outputs": []
    },
    {
      "cell_type": "code",
      "metadata": {
        "id": "ckxj2TUA77Gv"
      },
      "source": [
        "for epoch in range(1000):\n",
        "    for i in range(4):\n",
        "        w0 = w0 + eta* 1*(target[i] - net(W, x1[i],x2[i]))\n",
        "        w1 = w1 + eta*x1[i]*(target[i] - net(W, x1[i],x2[i]))\n",
        "        w2 = w2 + eta*x2[i]*(target[i] - net(W, x1[i],x2[i]))\n",
        "        W=[w0, w1, w2]"
      ],
      "execution_count": null,
      "outputs": []
    },
    {
      "cell_type": "code",
      "metadata": {
        "colab": {
          "base_uri": "https://localhost:8080/"
        },
        "id": "XKLcQcY-78av",
        "outputId": "7b0fafb8-9c25-433a-c7a5-dc5444fb611c"
      },
      "source": [
        "for i in range(4):\n",
        "    print(net(W,x1[i],x2[i]))"
      ],
      "execution_count": null,
      "outputs": [
        {
          "output_type": "stream",
          "text": [
            "0\n",
            "1\n",
            "1\n",
            "1\n"
          ],
          "name": "stdout"
        }
      ]
    },
    {
      "cell_type": "markdown",
      "metadata": {
        "id": "XZhVYsdp8A0d"
      },
      "source": [
        "단순 회귀로는 XOR을 구현하지 못함"
      ]
    }
  ]
}